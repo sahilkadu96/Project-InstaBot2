{
 "cells": [
  {
   "cell_type": "code",
   "execution_count": 5,
   "id": "ae634ca7",
   "metadata": {},
   "outputs": [
    {
     "data": {
      "text/plain": [
       "<selenium.webdriver.chrome.webdriver.WebDriver (session=\"7daca74c73774b6335e0e758a1760039\")>"
      ]
     },
     "execution_count": 5,
     "metadata": {},
     "output_type": "execute_result"
    }
   ],
   "source": [
    "from selenium import webdriver\n",
    "driver = webdriver.Chrome(executable_path = 'C:/Users/Sahil/.wdm/drivers/chromedriver/win32/102.0.5005.61/chromedriver.exe')\n",
    "driver"
   ]
  },
  {
   "cell_type": "code",
   "execution_count": 2,
   "id": "54ed2aeb",
   "metadata": {},
   "outputs": [],
   "source": [
    "from selenium.webdriver.support.ui import WebDriverWait\n",
    "from selenium.webdriver.support import expected_conditions as EC\n",
    "from selenium.webdriver.common.by import By\n",
    "from selenium.webdriver.support.select import Select\n",
    "from time import sleep\n",
    "from bs4 import BeautifulSoup\n",
    "import requests\n",
    "from selenium.webdriver.common.keys import Keys\n",
    "from selenium.common.exceptions import NoSuchElementException"
   ]
  },
  {
   "cell_type": "code",
   "execution_count": 3,
   "id": "b1326c49",
   "metadata": {},
   "outputs": [],
   "source": [
    "import numpy as np\n",
    "import pandas as pd\n",
    "import matplotlib.pyplot as plt\n"
   ]
  },
  {
   "cell_type": "code",
   "execution_count": 6,
   "id": "30486597",
   "metadata": {},
   "outputs": [],
   "source": [
    "driver.get('https://www.instagram.com/')\n",
    "sleep(5)\n",
    "\n",
    "#logged in by fb\n",
    "btn = driver.find_element_by_xpath('//span[@class = \"KPnG0\"]')\n",
    "btn.click()\n",
    "sleep(5)\n",
    "\n",
    "#email id\n",
    "email_textbox = driver.find_element_by_xpath('//input[@name = \"email\"]')\n",
    "email_textbox.send_keys('emailid')\n",
    "\n",
    "#password\n",
    "password_textbox = driver.find_element_by_xpath('//input[@name = \"pass\"]')\n",
    "password_textbox.send_keys('pasword')\n",
    "\n",
    "#clicking login btn\n",
    "btn = driver.find_element_by_xpath('//button[@name = \"login\"]')\n",
    "btn.click()\n",
    "\n",
    "waiter = WebDriverWait(driver, 50).until(EC.visibility_of_element_located((By.XPATH, '//div[@class = \"_a9-v\"]')))\n",
    "driver.find_element_by_xpath('//button[@class = \"_a9-- _a9_1\"]').click()\n"
   ]
  },
  {
   "cell_type": "markdown",
   "id": "b1268e88",
   "metadata": {},
   "source": [
    "# Question 1.1"
   ]
  },
  {
   "cell_type": "code",
   "execution_count": 8,
   "id": "6761e786",
   "metadata": {},
   "outputs": [
    {
     "name": "stdout",
     "output_type": "stream",
     "text": [
      "foodie_incarnate 1356550\n",
      "dilsefoodie 1022241\n",
      "foodtalkindia 308266\n",
      "food 181039\n",
      "pune_food_blogger 134936\n"
     ]
    }
   ],
   "source": [
    "#search fod\n",
    "search_box=driver.find_element_by_xpath('//input[@placeholder = \"Search\"]')\n",
    "search_box.send_keys('food')\n",
    "waiter=WebDriverWait(driver, 10).until(EC.presence_of_element_located((By.XPATH, '//div[@class= \"_aacl _aaco _aacw _aacx _aad6\"]')))\n",
    "\n",
    "#add 10 foodhandles in list\n",
    "foodhandles = []\n",
    "count=0\n",
    "for i in driver.find_elements_by_xpath('//div[@class= \"_aacl _aaco _aacw _aacx _aad6\"]'):\n",
    "    if count==10:\n",
    "        break\n",
    "    foodhandles.append(i.text)\n",
    "    count+=1\n",
    "        \n",
    "close = driver.find_element_by_xpath('//div/div[1]/div/div[1]/div/div/div[1]/div[1]/section/nav/div[2]/div/div/div[2]/div[2]')\n",
    "close.click()\n",
    "sleep(2)\n",
    "\n",
    "#create dictionary\n",
    "d={}\n",
    "base_url = 'https://www.instagram.com/'\n",
    "\n",
    "\n",
    "for i in range(len(foodhandles)):\n",
    "    # we will use this method for every foodhandle\n",
    "    curr_url = base_url + foodhandles[i]\n",
    "    driver.get(curr_url)\n",
    "    sleep(5)\n",
    "    \n",
    "    #find number of followers & add them in dictionary\n",
    "    followers = driver.find_element_by_xpath('//div/div[1]/div/div[1]/div/div/div[1]/div[1]/section/main/div/header/section/ul/li[2]/a/div/span')\n",
    "    f = followers.get_attribute('title')\n",
    "    fn = int(\"\".join(f.split(',')))\n",
    "    d[foodhandles[i]] = fn\n",
    "    \n",
    "    \n",
    "#sort dictionary in reverse order & print top 5 values    \n",
    "sorted_d = dict(sorted(d.items(), key=lambda x:x[1], reverse=True))\n",
    "count=0\n",
    "for i in sorted_d:\n",
    "    if count==5:\n",
    "        break\n",
    "    print(i, sorted_d[i]) \n",
    "    count+=1\n",
    "\n",
    "    \n",
    "    \n"
   ]
  },
  {
   "cell_type": "markdown",
   "id": "30e060d0",
   "metadata": {},
   "source": [
    "# Question 1.2"
   ]
  },
  {
   "cell_type": "code",
   "execution_count": 18,
   "id": "349acf6d",
   "metadata": {},
   "outputs": [
    {
     "name": "stdout",
     "output_type": "stream",
     "text": [
      "{'foodie_incarnate': 5, 'dilsefoodie': 4, 'foodtalkindia': 2, 'food': 1, 'pune_food_blogger': 3}\n"
     ]
    }
   ],
   "source": [
    "post_three_days = {}   #create dictionary for post past three days\n",
    "count = 0\n",
    "foodhandles_top5 = []     #create list for top5 food handles\n",
    "\n",
    "#adding top5 food handles in list\n",
    "for ele in sorted_d:\n",
    "    if count==5:\n",
    "        break\n",
    "    foodhandles_top5.append(ele)\n",
    "    count+=1\n",
    "    \n",
    "\n",
    "base_url = 'https://www.instagram.com/'\n",
    "\n",
    "for i in range(len(foodhandles_top5)):\n",
    "    \n",
    "    no_of_posts = 0\n",
    "    \n",
    "    #for per food handle page\n",
    "    curr_url = base_url + foodhandles_top5[i]\n",
    "    driver.get(curr_url)\n",
    "    sleep(3)\n",
    "    \n",
    "    #for all posts in that food handle\n",
    "    posts = driver.find_elements_by_xpath('//div[@class = \"_aabd _aa8k _aanf\"]')\n",
    "    for j in posts:\n",
    "        sleep(3)\n",
    "        j.click()\n",
    "        sleep(3)\n",
    "        \n",
    "        #find date\n",
    "        post_date =  driver.find_element_by_xpath('//div/div[1]/div/div[2]/div/div/div[1]/div/div[3]/div/div/div/div/div[2]/div/article/div/div[2]/div/div/div[2]/div[2]/div/div/a/div/time')\n",
    "        date = post_date.get_attribute('title').split(' ')[1].split(',')[0]\n",
    "        date_int = int(date)\n",
    "        \n",
    "        #check if date is before three days\n",
    "        if date_int<11:\n",
    "            break\n",
    "        else:\n",
    "            no_of_posts+=1 \n",
    "            \n",
    "        driver.back()\n",
    "        sleep(3)\n",
    "        driver.execute_script('window.scrollBy(0,100);')\n",
    "        sleep(2)\n",
    "    \n",
    "    post_three_days[foodhandles_top5[i]] = no_of_posts\n",
    "    \n",
    "\n",
    "print(post_three_days)        \n",
    "       \n",
    "            \n",
    "    \n",
    "        "
   ]
  },
  {
   "cell_type": "markdown",
   "id": "716e9557",
   "metadata": {},
   "source": [
    "# Question 1.3"
   ]
  },
  {
   "cell_type": "code",
   "execution_count": 27,
   "id": "7f7fe262",
   "metadata": {},
   "outputs": [
    {
     "data": {
      "image/png": "[encoded data removed]",
      "text/plain": [
       "<Figure size 432x288 with 1 Axes>"
      ]
     },
     "metadata": {
      "needs_background": "light"
     },
     "output_type": "display_data"
    }
   ],
   "source": [
    "foodhandles_followers = []\n",
    "foodhandles=[]\n",
    "count=0\n",
    "for ele in sorted_d:\n",
    "    if count==5:\n",
    "        break\n",
    "    foodhandles_followers.append(sorted_d[ele])\n",
    "    foodhandles.append(ele)\n",
    "    count+=1\n",
    "\n",
    "plt.bar(foodhandles, foodhandles_followers)\n",
    "plt.xlabel('fodhandles')\n",
    "plt.ylabel('number of followers in 10^6')\n",
    "plt.xticks(rotation = 40)\n",
    "plt.title('top 5 foodhandles')\n",
    "plt.show()\n",
    "    "
   ]
  },
  {
   "cell_type": "code",
   "execution_count": 23,
   "id": "72abc0b3",
   "metadata": {},
   "outputs": [
    {
     "data": {
      "image/png": "[encoded data removed]",
      "text/plain": [
       "<Figure size 432x288 with 1 Axes>"
      ]
     },
     "metadata": {
      "needs_background": "light"
     },
     "output_type": "display_data"
    }
   ],
   "source": [
    "posts = []\n",
    "foodhandles=[]\n",
    "count=0\n",
    "for ele in post_three_days:\n",
    "    if count==5:\n",
    "        break\n",
    "    posts.append(post_three_days[ele])\n",
    "    foodhandles.append(ele)\n",
    "    count+=1\n",
    "    \n",
    "plt.bar(foodhandles, posts)\n",
    "plt.xlabel('fodhandles')\n",
    "plt.ylabel('posts')\n",
    "plt.xticks(rotation = 40)\n",
    "plt.title('post_past_three_days')\n",
    "plt.show()\n",
    "    "
   ]
  },
  {
   "cell_type": "markdown",
   "id": "07446657",
   "metadata": {},
   "source": [
    "# Question 2.1"
   ]
  },
  {
   "cell_type": "code",
   "execution_count": 10,
   "id": "3282aa74",
   "metadata": {},
   "outputs": [
    {
     "name": "stdout",
     "output_type": "stream",
     "text": [
      "['These', 'Parathas', 'has', 'shelf', 'life', 'of', '2', 'years😳😳', 'Frozen', 'Paratha', 'Making😋😋\\n.\\nWatch', 'the', 'full', 'video', 'on', 'my', 'YouTube', 'channel.', 'Link', 'is', 'in', 'my', 'bio🤗🤗\\n.\\n#foodieincarnate', '#Reelitfeelit', '#reelkarofeelkaro', '#reelsinstagram', '#reels', '#paratha', '#indianfood', '#viralfood', '#explore', '#foodfactory', 'Crossed', '3', 'Million', 'subscribers', 'on', 'YouTube.🤩🤩\\nIt', \"wouldn't\", 'have', 'been', 'possible', 'without', 'the', 'love', '&', 'support', 'of', 'you', 'guys.', 'Thank', 'you', 'every', 'single', 'one', 'of', 'you❤️🤗\\n.\\n#foodieincarnate', '#amarsirohi', 'Thick', '&', 'Creamy', 'Red', 'Velvet', 'Shake', 'from', '@shakesjunctionsaket', '🤩🤩\\n.\\nMust', 'visit', 'this', 'place', 'for', 'good', 'quality', 'thick', 'shakes', 'in', 'pocket', 'friendly', 'prices.', 'Address:', 'Shakes', 'Junction,', 'PVR', 'Anupam,', 'Saket\\n.\\n#foodieincarnate', '#Reelitfeelit', '#reelkarofeelkaro', '#reelsinstagram', '#reels', '#redvelvet', '#milkshake', '#newdelhi', '#trending', '#explore', '#milkshakes', 'Now', 'enjoy', 'the', 'best', 'of', 'delightful', 'Indian', 'food', 'in', 'just', '3', 'simple', 'steps', '-', 'Open,', 'Heat', '&', 'Eat.\\nQuikShef', 'offers', 'ready-to-eat', 'meals', 'that', 'taste', 'like', 'they', 'were', 'prepared', 'at', 'home.\\n\\nBe', 'part', 'of', \"India's\", 'fastest-growing', 'food', 'business.\\nFor', 'Quikshef', 'Franchise', 'Enquiry\\n📞', '18002032411\\nKnow', 'more:', 'www.quikshef.com\\n.\\n@quikshef\\n#Foodieincarnate', '#QuikShef', '#QuikFood\\n#Franchise', '#FranchiseOpportunities\\n#Instantfood', '#EasyToCookMeals', '#InstantMeals', '#EasyMeals', '#ReadyToEat\\n#Jainfood', '#FastFood', '#DeliciousBites\\n#AuthenticTaste', '#MadeinIndia', '20', 'Lakh', 'Rs/-', 'Kg', 'Gulabjal', 'Making', 'in', 'Uttar', 'Pradesh😱😱\\n.\\nWatch', 'the', 'full', 'video', 'on', 'my', 'YouTube', 'channel.', 'Link', 'is', 'in', 'my', 'bio🤗🤗\\n.\\n#foodieincarnate', '#reelitfeelit', '#reelkarofeelkaro', '#reelsinstagram', '#reels', '#gulabjal', '#rosewater', '#indianfood', '#streetfood', '#tasteofUP', '#swadUPka', '#cuisineofuttarpradesh', 'Have', 'you', 'ever', 'seen', 'Yellow', 'Watermelon??😳😳\\n.\\nKindly', 'watch', 'the', 'full', 'video', 'for', 'location,', 'price', 'and', 'other', 'details🤗🤗\\n.\\n#foodieincarnate', '#sodelhi', '#newdelhi', '#foodtalkindia', '#delhigram', '#indianfood', '#delhifoodblogger', '#foodgasm', '#foodporn', '#foodpornshare', '#foodlover', '#foodgram', '#foodiesofinstagram', '#foodie', '#indianstreetfood', '#streetfood', '#delhistreetfood', '#streetfoodindia', '#mumbaistreetfood', '#delhifoodie', '#foodblogger', '#indianfoodie', '#desikhana', '#indianfoodblogger', '#indianfoodbloggers', '#delhifood', '#mumbai', '#delhi', '#golgappa', '#panipuri', 'Tag', 'someone', 'who', 'can', 'finish', 'this', \"INDIA'S\", 'BIGGEST', 'PARATHA😱😱\\n.\\nWatch', 'the', 'full', 'video', 'on', 'my', 'Fb', 'page🤗🤗\\n.\\n#foodieincarnate', '#Reelitfeelit', '#reelkarofeelkaro', '#reelsinstagram', '#reels', '#streetfood', '#paratha', '#indianfood', '#viralfood', '#trending', 'If', 'you', 'are', 'searching', 'for', 'the', 'best', 'place', 'to', 'stay', 'in', 'Haridwar,', 'look', 'no', 'further', 'than', '@pilibhithouseharidwar\\n\\nSitting', 'charmingly', 'by', 'the', 'Ganges', 'overlooking', 'the', 'glorious', 'Shivalik', 'Himalayas,', 'it', 'is', 'a', 'century', 'old', 'aristocratic', 'noble', 'house,', 'which', 'has', 'been', 'meticulously', 'restored', 'to', 'provide', 'you', 'the', 'best', 'experiences', 'of', 'Haridwar.', 'Housing', 'the', 'largest', 'private', 'bathing', 'ghat', 'of', 'the', 'region,', 'it', 'also', 'offers', 'mersmerising', 'view', 'of', 'the', 'Ganges', 'from', 'artfully', 'designed', 'rooms', 'and', 'suites', 'across', '3', 'levels.', 'Highly', 'recommended', 'place.👍🏻👍🏻\\n.\\n#Foodieincarnate', '#PilibhitHouseRituals', '#UntoldHaridwar', '#SoulStirringHaridwar', '#staycation', '#haridwar', '#amarsirohi', '#foodblogger', '#hotelblogger', 'श्री', 'राम', 'जन्मभूमि', 'Ayodhya', 'में', 'Free', 'Food', 'For', 'Everyone🙏🏻🙏🏻\\n.\\nWatch', 'the', 'full', 'video', 'on', 'my', 'Facebook', 'page🤗🤗\\n.\\n#foodieincarnate', '#Reelitfeelit', '#reelkarofeelkaro', '#reelsinstagram', '#reels', '#ayodhya', '#prasad', '#shreeram', '#ramjanmabhoomi', '#viralfood', '#explore', 'Best', 'Veg', 'Buffet', 'in', '@pilibhithouseharidwar', '😱😱\\n.\\nKindly', 'watch', 'the', 'full', 'video', 'for', 'location,', 'price', 'and', 'other', 'details🤗🤗\\n.\\n#foodieincarnate', '#sodelhi', '#newdelhi', '#foodtalkindia', '#delhigram', '#indianfood', '#delhifoodblogger', '#foodgasm', '#foodporn', '#foodpornshare', '#foodlover', '#foodgram', '#foodiesofinstagram', '#foodie', '#indianstreetfood', '#streetfood', '#delhistreetfood', '#streetfoodindia', '#mumbaistreetfood', '#delhifoodie', '#foodblogger', '#indianfoodie', '#desikhana', '#indianfoodblogger', '#indianfoodbloggers', '#delhifood', '#mumbai', '#delhi', '#haridwar', '#buffet', '', '', '', '', '', '', '', '', '', '', '', '', '', '', '', '', '', '', '', '', '', '', '', '', '', '', '', 'According', 'to', 'an', 'article', 'published', 'on', '@nytimes', 'and', 'a', 'recent', 'study', 'by', 'The', 'Annals', 'of', 'Internal', 'Medicine,', 'which', 'concluded', 'those', 'who', 'drank', '1.5', 'to', '3.5', 'cups', 'of', 'coffee', 'per', 'day,', 'even', 'with', 'a', 'teaspoon', 'of', 'sugar,', 'were', 'up', 'to', '30', 'percent', 'less', 'likely', 'to', 'die', 'during', 'the', 'study', 'period', 'than', 'those', 'who', 'didn’t', 'drink', 'coffee.', 'Those', 'who', 'drank', 'unsweetened', 'coffee', 'were', '16', 'to', '21', 'percent', 'less', 'likely', 'to', 'die', 'during', 'the', 'study', 'period,', 'with', 'those', 'drinking', 'about', 'three', 'cups', 'per', 'day', 'having', 'the', 'lowest', 'risk', 'of', 'death', 'when', 'compared', 'with', 'noncoffee', 'drinkers.\\n\\nOf', 'course', 'there', 'are', 'many', 'more', 'deterring', 'factors', 'but', 'this', 'is', 'big', 'news', 'for', 'coffee', 'lovers.', 'So', 'grab', 'a', 'cup', 'at', 'your', 'favorite', 'coffee', 'spot.\\n\\nHere', 'are', 'a', 'few', 'of', 'our', 'favorites:', '@happybonesnyc', '@seycoffee', '@stumptowncoffee', '@bluebottle', '@coffeeprojectny', '@lacolombecoffee', '@arabicausa', '@dutchbroscoffee', '@wingstop', 'has', 'partnered', 'with', '@thesurgeon', 'to', 'create', 'the', '“Lemon', 'Pepper', '1’s.”', 'The', 'collaboration', 'plays', 'off', 'of', 'the', 'iconic', 'Wingstop', 'palette', 'with', 'an', 'upper', 'that', 'incorporates', 'smooth,', 'forest', 'green', 'leather', 'against', 'athletic', 'green', 'mesh.', 'Cream', 'suede', 'pairs', 'back', 'to', 'the', 'scratch-made', 'ranch,', 'alongside', 'shaggy', 'tan', 'suede', 'at', 'the', 'swoosh', 'that', 'echoes', 'the', 'crispy,', 'fried', 'texture', 'of', 'Wingstop’s', 'classic', 'wings', 'and', 'tenders.', 'A', 'secret', 'pocket', 'sits', 'behind', 'the', 'paper-bag', 'inspired', 'leather', 'tongue,', 'included', 'to', 'stash', 'your', 'favorite', 'Wingstop', 'seasoning,', 'and', 'the', 'iconic', 'Wingstop', 'logo', 'hit', 'at', 'the', 'heel.\\n\\n30', 'pairs', 'will', 'be', 'given', 'away', 'on', '@wingstop', 'IG', 'page', 'to', 'a', 'few', 'lucky', 'individuals', 'starting', 'today', 'through', \"6/16.\\n\\nHere's\", 'how', 'to', 'enter:\\n1.', 'Follow', '@Wingstop\\n2.', 'Follow', '@TheSurgeon\\n3.', 'Tag', '3', 'friends', 'below', 'with', '#LemonPepper1s\\n\\n#foodculture', '#foodcollabs', '#wings', '#nike', '#nikeairforce1', '#sneakerhead', '#sneakerdrop', '#sneakercommunity', 'This', 'summer', '@heinz_ca', 'is', 'borrowing', 'a', 'page', 'from', 'the', 'beer', 'category,', 'but', 'this', 'time', 'the', 'it’s', 'not', 'the', 'Rockies', 'that', 'are', 'turning', 'blue.', 'Inspired', 'by', 'the', 'contentious', 'debate', 'about', 'whether', 'ketchup', 'should', 'be', 'served', 'cold', 'or', 'at', 'room', 'temperature.', 'Heinz', 'Canada', 'is', 'releasing', 'limited', 'temperature-activated', 'labels', 'and', 'packets.', 'According', 'to', 'a', 'Heinz', 'survey,', 'nearly', 'half', 'of', 'Canadians', 'feel', 'the', 'only', 'way', 'to', 'consume', 'ketchup', 'is', 'cold,', 'though', 'nearly', '20%', 'said', 'it', 'should', 'be', 'room', 'temperature.', 'The', 'limited-edition', 'bottles', 'of', 'Heinz', 'Cold', 'Ketchup', 'featuring', 'the', 'temperature-activated', 'labels', 'will', 'be', 'given', 'away', 'on', 'social', 'media', 'and', 'available', 'at', '@wendyscanada\\n🎥:', '@themessagecanada', '#foodnews', '#heinz', '#marketing', '', '', '', '', '', '', '', '', '', '']\n"
     ]
    }
   ],
   "source": [
    "list_of_words = []\n",
    "foodhandles_top5 = []\n",
    "c=0\n",
    "for ele in sorted_d:\n",
    "    if c==5:\n",
    "        break\n",
    "    foodhandles_top5.append(ele)\n",
    "    c+=1\n",
    "\n",
    "base_url = 'https://www.instagram.com/'\n",
    "for i in range(len(foodhandles_top5)):\n",
    "    #for per food handle page\n",
    "    curr_url = base_url + foodhandles_top5[i]\n",
    "    driver.get(curr_url)\n",
    "    sleep(3)\n",
    "    count=0\n",
    "    \n",
    "    #for all posts in that food handle\n",
    "    posts = driver.find_elements_by_xpath('//div[@class = \"_aabd _aa8k _aanf\"]')\n",
    "    for j in posts:\n",
    "        if count==10:\n",
    "            break\n",
    "        sleep(3)\n",
    "        j.click()\n",
    "        sleep(3)\n",
    "        \n",
    "        #find text of post & add all words in list\n",
    "        post_details = driver.find_element_by_xpath('//div/div[1]/div/div[2]/div/div/div[1]/div/div[3]/div/div/div/div/div[2]/div/article/div/div[2]/div/div/div[2]/div[1]/ul/div/li/div/div/div[2]/div[1]/span')\n",
    "        for word in post_details.text.split(' '):\n",
    "            list_of_words.append(word)\n",
    "        count+=1\n",
    "        \n",
    "        driver.back()\n",
    "        sleep(3)\n",
    "        driver.execute_script('window.scrollBy(0,100);')\n",
    "        sleep(3)\n",
    "        \n",
    "print(list_of_words)    "
   ]
  },
  {
   "cell_type": "markdown",
   "id": "383f5e2e",
   "metadata": {},
   "source": [
    "# Question 2.2"
   ]
  },
  {
   "cell_type": "code",
   "execution_count": 11,
   "id": "fb14a650",
   "metadata": {},
   "outputs": [
    {
     "name": "stdout",
     "output_type": "stream",
     "text": [
      "[['These', 1], ['Parathas', 1], ['has', 3], ['shelf', 1], ['life', 1], ['of', 17], ['2', 1], ['years😳😳', 1], ['Frozen', 1], ['Paratha', 1], ['Making😋😋\\n.\\nWatch', 1], ['the', 32], ['full', 6], ['video', 6], ['on', 8], ['my', 6], ['YouTube', 2], ['channel.', 2], ['Link', 2], ['is', 7], ['in', 7], ['bio🤗🤗\\n.\\n#foodieincarnate', 2], ['#Reelitfeelit', 4], ['#reelkarofeelkaro', 5], ['#reelsinstagram', 5], ['#reels', 5], ['#paratha', 2], ['#indianfood', 5], ['#viralfood', 3], ['#explore', 3], ['#foodfactory', 1], ['Crossed', 1], ['3', 4], ['Million', 1], ['subscribers', 1], ['YouTube.🤩🤩\\nIt', 1], [\"wouldn't\", 1], ['have', 1], ['been', 2], ['possible', 1], ['without', 1], ['love', 1], ['&', 3], ['support', 1], ['you', 5], ['guys.', 1], ['Thank', 1], ['every', 1], ['single', 1], ['one', 1], ['you❤️🤗\\n.\\n#foodieincarnate', 1], ['#amarsirohi', 2], ['Thick', 1], ['Creamy', 1], ['Red', 1], ['Velvet', 1], ['Shake', 1], ['from', 3], ['@shakesjunctionsaket', 1], ['🤩🤩\\n.\\nMust', 1], ['visit', 1], ['this', 4], ['place', 2], ['for', 5], ['good', 1], ['quality', 1], ['thick', 1], ['shakes', 1], ['pocket', 2], ['friendly', 1], ['prices.', 1], ['Address:', 1], ['Shakes', 1], ['Junction,', 1], ['PVR', 1], ['Anupam,', 1], ['Saket\\n.\\n#foodieincarnate', 1], ['#redvelvet', 1], ['#milkshake', 1], ['#newdelhi', 3], ['#trending', 2], ['#milkshakes', 1], ['Now', 1], ['enjoy', 1], ['best', 3], ['delightful', 1], ['Indian', 1], ['food', 2], ['just', 1], ['simple', 1], ['steps', 1], ['-', 1], ['Open,', 1], ['Heat', 1], ['Eat.\\nQuikShef', 1], ['offers', 2], ['ready-to-eat', 1], ['meals', 1], ['that', 4], ['taste', 1], ['like', 1], ['they', 1], ['were', 3], ['prepared', 1], ['at', 6], ['home.\\n\\nBe', 1], ['part', 1], [\"India's\", 1], ['fastest-growing', 1], ['business.\\nFor', 1], ['Quikshef', 1], ['Franchise', 1], ['Enquiry\\n📞', 1], ['18002032411\\nKnow', 1], ['more:', 1], ['www.quikshef.com\\n.\\n@quikshef\\n#Foodieincarnate', 1], ['#QuikShef', 1], ['#QuikFood\\n#Franchise', 1], ['#FranchiseOpportunities\\n#Instantfood', 1], ['#EasyToCookMeals', 1], ['#InstantMeals', 1], ['#EasyMeals', 1], ['#ReadyToEat\\n#Jainfood', 1], ['#FastFood', 1], ['#DeliciousBites\\n#AuthenticTaste', 1], ['#MadeinIndia', 1], ['20', 1], ['Lakh', 1], ['Rs/-', 1], ['Kg', 1], ['Gulabjal', 1], ['Making', 1], ['Uttar', 1], ['Pradesh😱😱\\n.\\nWatch', 1], ['#reelitfeelit', 1], ['#gulabjal', 1], ['#rosewater', 1], ['#streetfood', 4], ['#tasteofUP', 1], ['#swadUPka', 1], ['#cuisineofuttarpradesh', 1], ['Have', 1], ['ever', 1], ['seen', 1], ['Yellow', 1], ['Watermelon??😳😳\\n.\\nKindly', 1], ['watch', 2], ['location,', 2], ['price', 2], ['and', 8], ['other', 2], ['details🤗🤗\\n.\\n#foodieincarnate', 2], ['#sodelhi', 2], ['#foodtalkindia', 2], ['#delhigram', 2], ['#delhifoodblogger', 2], ['#foodgasm', 2], ['#foodporn', 2], ['#foodpornshare', 2], ['#foodlover', 2], ['#foodgram', 2], ['#foodiesofinstagram', 2], ['#foodie', 2], ['#indianstreetfood', 2], ['#delhistreetfood', 2], ['#streetfoodindia', 2], ['#mumbaistreetfood', 2], ['#delhifoodie', 2], ['#foodblogger', 3], ['#indianfoodie', 2], ['#desikhana', 2], ['#indianfoodblogger', 2], ['#indianfoodbloggers', 2], ['#delhifood', 2], ['#mumbai', 2], ['#delhi', 2], ['#golgappa', 1], ['#panipuri', 1], ['Tag', 2], ['someone', 1], ['who', 4], ['can', 1], ['finish', 1], [\"INDIA'S\", 1], ['BIGGEST', 1], ['PARATHA😱😱\\n.\\nWatch', 1], ['Fb', 1], ['page🤗🤗\\n.\\n#foodieincarnate', 2], ['If', 1], ['are', 4], ['searching', 1], ['to', 15], ['stay', 1], ['Haridwar,', 1], ['look', 1], ['no', 1], ['further', 1], ['than', 2], ['@pilibhithouseharidwar\\n\\nSitting', 1], ['charmingly', 1], ['by', 3], ['Ganges', 2], ['overlooking', 1], ['glorious', 1], ['Shivalik', 1], ['Himalayas,', 1], ['it', 3], ['a', 8], ['century', 1], ['old', 1], ['aristocratic', 1], ['noble', 1], ['house,', 1], ['which', 2], ['meticulously', 1], ['restored', 1], ['provide', 1], ['experiences', 1], ['Haridwar.', 1], ['Housing', 1], ['largest', 1], ['private', 1], ['bathing', 1], ['ghat', 1], ['region,', 1], ['also', 1], ['mersmerising', 1], ['view', 1], ['artfully', 1], ['designed', 1], ['rooms', 1], ['suites', 1], ['across', 1], ['levels.', 1], ['Highly', 1], ['recommended', 1], ['place.👍🏻👍🏻\\n.\\n#Foodieincarnate', 1], ['#PilibhitHouseRituals', 1], ['#UntoldHaridwar', 1], ['#SoulStirringHaridwar', 1], ['#staycation', 1], ['#haridwar', 2], ['#hotelblogger', 1], ['श्री', 1], ['राम', 1], ['जन्मभूमि', 1], ['Ayodhya', 1], ['में', 1], ['Free', 1], ['Food', 1], ['For', 1], ['Everyone🙏🏻🙏🏻\\n.\\nWatch', 1], ['Facebook', 1], ['#ayodhya', 1], ['#prasad', 1], ['#shreeram', 1], ['#ramjanmabhoomi', 1], ['Best', 1], ['Veg', 1], ['Buffet', 1], ['@pilibhithouseharidwar', 1], ['😱😱\\n.\\nKindly', 1], ['#buffet', 1], ['', 37], ['According', 2], ['an', 2], ['article', 1], ['published', 1], ['@nytimes', 1], ['recent', 1], ['study', 3], ['The', 3], ['Annals', 1], ['Internal', 1], ['Medicine,', 1], ['concluded', 1], ['those', 3], ['drank', 2], ['1.5', 1], ['3.5', 1], ['cups', 2], ['coffee', 4], ['per', 2], ['day,', 1], ['even', 1], ['with', 6], ['teaspoon', 1], ['sugar,', 1], ['up', 1], ['30', 1], ['percent', 2], ['less', 2], ['likely', 2], ['die', 2], ['during', 2], ['period', 1], ['didn’t', 1], ['drink', 1], ['coffee.', 1], ['Those', 1], ['unsweetened', 1], ['16', 1], ['21', 1], ['period,', 1], ['drinking', 1], ['about', 2], ['three', 1], ['day', 1], ['having', 1], ['lowest', 1], ['risk', 1], ['death', 1], ['when', 1], ['compared', 1], ['noncoffee', 1], ['drinkers.\\n\\nOf', 1], ['course', 1], ['there', 1], ['many', 1], ['more', 1], ['deterring', 1], ['factors', 1], ['but', 2], ['big', 1], ['news', 1], ['lovers.', 1], ['So', 1], ['grab', 1], ['cup', 1], ['your', 2], ['favorite', 2], ['spot.\\n\\nHere', 1], ['few', 2], ['our', 1], ['favorites:', 1], ['@happybonesnyc', 1], ['@seycoffee', 1], ['@stumptowncoffee', 1], ['@bluebottle', 1], ['@coffeeprojectny', 1], ['@lacolombecoffee', 1], ['@arabicausa', 1], ['@dutchbroscoffee', 1], ['@wingstop', 2], ['partnered', 1], ['@thesurgeon', 1], ['create', 1], ['“Lemon', 1], ['Pepper', 1], ['1’s.”', 1], ['collaboration', 1], ['plays', 1], ['off', 1], ['iconic', 2], ['Wingstop', 3], ['palette', 1], ['upper', 1], ['incorporates', 1], ['smooth,', 1], ['forest', 1], ['green', 2], ['leather', 2], ['against', 1], ['athletic', 1], ['mesh.', 1], ['Cream', 1], ['suede', 2], ['pairs', 2], ['back', 1], ['scratch-made', 1], ['ranch,', 1], ['alongside', 1], ['shaggy', 1], ['tan', 1], ['swoosh', 1], ['echoes', 1], ['crispy,', 1], ['fried', 1], ['texture', 1], ['Wingstop’s', 1], ['classic', 1], ['wings', 1], ['tenders.', 1], ['A', 1], ['secret', 1], ['sits', 1], ['behind', 1], ['paper-bag', 1], ['inspired', 1], ['tongue,', 1], ['included', 1], ['stash', 1], ['seasoning,', 1], ['logo', 1], ['hit', 1], ['heel.\\n\\n30', 1], ['will', 2], ['be', 4], ['given', 2], ['away', 2], ['IG', 1], ['page', 2], ['lucky', 1], ['individuals', 1], ['starting', 1], ['today', 1], ['through', 1], [\"6/16.\\n\\nHere's\", 1], ['how', 1], ['enter:\\n1.', 1], ['Follow', 2], ['@Wingstop\\n2.', 1], ['@TheSurgeon\\n3.', 1], ['friends', 1], ['below', 1], ['#LemonPepper1s\\n\\n#foodculture', 1], ['#foodcollabs', 1], ['#wings', 1], ['#nike', 1], ['#nikeairforce1', 1], ['#sneakerhead', 1], ['#sneakerdrop', 1], ['#sneakercommunity', 1], ['This', 1], ['summer', 1], ['@heinz_ca', 1], ['borrowing', 1], ['beer', 1], ['category,', 1], ['time', 1], ['it’s', 1], ['not', 1], ['Rockies', 1], ['turning', 1], ['blue.', 1], ['Inspired', 1], ['contentious', 1], ['debate', 1], ['whether', 1], ['ketchup', 2], ['should', 2], ['served', 1], ['cold', 1], ['or', 1], ['room', 2], ['temperature.', 2], ['Heinz', 3], ['Canada', 1], ['releasing', 1], ['limited', 1], ['temperature-activated', 2], ['labels', 2], ['packets.', 1], ['survey,', 1], ['nearly', 2], ['half', 1], ['Canadians', 1], ['feel', 1], ['only', 1], ['way', 1], ['consume', 1], ['cold,', 1], ['though', 1], ['20%', 1], ['said', 1], ['limited-edition', 1], ['bottles', 1], ['Cold', 1], ['Ketchup', 1], ['featuring', 1], ['social', 1], ['media', 1], ['available', 1], ['@wendyscanada\\n🎥:', 1], ['@themessagecanada', 1], ['#foodnews', 1], ['#heinz', 1], ['#marketing', 1]]\n"
     ]
    }
   ],
   "source": [
    "#find frequency\n",
    "freq = {}\n",
    "for i in list_of_words:\n",
    "    if i in freq:\n",
    "        freq[i]+=1\n",
    "    else:\n",
    "        freq[i]=1\n",
    "        \n",
    "word_freq = []\n",
    "for i in freq:\n",
    "    word_freq.append([i, freq[i]])\n",
    "\n",
    "print(word_freq)"
   ]
  },
  {
   "cell_type": "markdown",
   "id": "f05e2373",
   "metadata": {},
   "source": [
    "# Question 2.3"
   ]
  },
  {
   "cell_type": "code",
   "execution_count": 12,
   "id": "2c0a01aa",
   "metadata": {},
   "outputs": [
    {
     "data": {
      "text/html": [
       "<div>\n",
       "<style scoped>\n",
       "    .dataframe tbody tr th:only-of-type {\n",
       "        vertical-align: middle;\n",
       "    }\n",
       "\n",
       "    .dataframe tbody tr th {\n",
       "        vertical-align: top;\n",
       "    }\n",
       "\n",
       "    .dataframe thead th {\n",
       "        text-align: right;\n",
       "    }\n",
       "</style>\n",
       "<table border=\"1\" class=\"dataframe\">\n",
       "  <thead>\n",
       "    <tr style=\"text-align: right;\">\n",
       "      <th></th>\n",
       "      <th>Words</th>\n",
       "      <th>Frequency</th>\n",
       "    </tr>\n",
       "  </thead>\n",
       "  <tbody>\n",
       "    <tr>\n",
       "      <th>0</th>\n",
       "      <td>These</td>\n",
       "      <td>1</td>\n",
       "    </tr>\n",
       "    <tr>\n",
       "      <th>1</th>\n",
       "      <td>Parathas</td>\n",
       "      <td>1</td>\n",
       "    </tr>\n",
       "    <tr>\n",
       "      <th>2</th>\n",
       "      <td>has</td>\n",
       "      <td>3</td>\n",
       "    </tr>\n",
       "    <tr>\n",
       "      <th>3</th>\n",
       "      <td>shelf</td>\n",
       "      <td>1</td>\n",
       "    </tr>\n",
       "    <tr>\n",
       "      <th>4</th>\n",
       "      <td>life</td>\n",
       "      <td>1</td>\n",
       "    </tr>\n",
       "    <tr>\n",
       "      <th>...</th>\n",
       "      <td>...</td>\n",
       "      <td>...</td>\n",
       "    </tr>\n",
       "    <tr>\n",
       "      <th>473</th>\n",
       "      <td>@wendyscanada\\n🎥:</td>\n",
       "      <td>1</td>\n",
       "    </tr>\n",
       "    <tr>\n",
       "      <th>474</th>\n",
       "      <td>@themessagecanada</td>\n",
       "      <td>1</td>\n",
       "    </tr>\n",
       "    <tr>\n",
       "      <th>475</th>\n",
       "      <td>#foodnews</td>\n",
       "      <td>1</td>\n",
       "    </tr>\n",
       "    <tr>\n",
       "      <th>476</th>\n",
       "      <td>#heinz</td>\n",
       "      <td>1</td>\n",
       "    </tr>\n",
       "    <tr>\n",
       "      <th>477</th>\n",
       "      <td>#marketing</td>\n",
       "      <td>1</td>\n",
       "    </tr>\n",
       "  </tbody>\n",
       "</table>\n",
       "<p>478 rows × 2 columns</p>\n",
       "</div>"
      ],
      "text/plain": [
       "                 Words  Frequency\n",
       "0                These          1\n",
       "1             Parathas          1\n",
       "2                  has          3\n",
       "3                shelf          1\n",
       "4                 life          1\n",
       "..                 ...        ...\n",
       "473  @wendyscanada\\n🎥:          1\n",
       "474  @themessagecanada          1\n",
       "475          #foodnews          1\n",
       "476             #heinz          1\n",
       "477         #marketing          1\n",
       "\n",
       "[478 rows x 2 columns]"
      ]
     },
     "execution_count": 12,
     "metadata": {},
     "output_type": "execute_result"
    }
   ],
   "source": [
    "#create pandas dataframe\n",
    "df = pd.DataFrame(word_freq, columns=['Words', 'Frequency'])"
   ]
  },
  {
   "cell_type": "code",
   "execution_count": 13,
   "id": "3ecb571b",
   "metadata": {},
   "outputs": [],
   "source": [
    "#create csv file\n",
    "df.to_csv('Words_Freq', index = False) "
   ]
  },
  {
   "cell_type": "markdown",
   "id": "f42f2c4e",
   "metadata": {},
   "source": [
    "# Question 2.4"
   ]
  },
  {
   "cell_type": "code",
   "execution_count": 18,
   "id": "cea5980d",
   "metadata": {},
   "outputs": [
    {
     "name": "stdout",
     "output_type": "stream",
     "text": [
      "                 Words  Frequency\n",
      "24     #reelsinstagram          5\n",
      "25              #reels          5\n",
      "27         #indianfood          5\n",
      "23   #reelkarofeelkaro          5\n",
      "22       #Reelitfeelit          4\n",
      "137        #streetfood          4\n",
      "79           #newdelhi          3\n",
      "168       #foodblogger          3\n",
      "29            #explore          3\n",
      "28          #viralfood          3\n"
     ]
    }
   ],
   "source": [
    "#find popular hashtags\n",
    "df = df[df['Words'].str.startswith('#')]\n",
    "popular_hashtags = df.sort_values('Frequency', ascending = False)[0:10]\n",
    "print(popular_hashtags)"
   ]
  },
  {
   "cell_type": "markdown",
   "id": "8e69c117",
   "metadata": {},
   "source": [
    "# Question 2.5"
   ]
  },
  {
   "cell_type": "code",
   "execution_count": 20,
   "id": "db059882",
   "metadata": {},
   "outputs": [
    {
     "data": {
      "image/png": "[encoded data removed]",
      "text/plain": [
       "<Figure size 432x288 with 1 Axes>"
      ]
     },
     "metadata": {},
     "output_type": "display_data"
    }
   ],
   "source": [
    "top5_hashtags = popular_hashtags.Words[0:5]\n",
    "top5_hashtags_freq = popular_hashtags.Frequency[0:5]\n",
    "\n",
    "#plot pie chart\n",
    "plt.pie(top5_hashtags_freq, labels = top5_hashtags, autopct = \"%.2f%%\" )\n",
    "plt.show()"
   ]
  },
  {
   "cell_type": "markdown",
   "id": "5423a06a",
   "metadata": {},
   "source": [
    "# Question 3.1"
   ]
  },
  {
   "cell_type": "code",
   "execution_count": 17,
   "id": "de7b23c8",
   "metadata": {},
   "outputs": [
    {
     "name": "stdout",
     "output_type": "stream",
     "text": [
      "{'foodie_incarnate': 597518, 'dilsefoodie': 55609, 'foodtalkindia': 27684, 'pune_food_blogger': 37091}\n"
     ]
    }
   ],
   "source": [
    "# for this question I am unable to find likes of handle \"food\" as number of likes & views weren't displayed. \n",
    "#I have caluculated likes of other handles\n",
    "# I have attached image in folder regarding the same.\n",
    "\n",
    "foodhandles_top5 = []\n",
    "co=0\n",
    "for ele in sorted_d:\n",
    "    if co==5:\n",
    "        break\n",
    "    foodhandles_top5.append(ele)\n",
    "    co+=1\n",
    "    \n",
    "handles_likes = {}\n",
    "base_url = 'https://www.instagram.com/'\n",
    "for i in range(len(foodhandles_top5)):\n",
    "    #for per food handle page\n",
    "    if i==3:                   #skipped the handle \"food\"\n",
    "        continue\n",
    "    curr_url = base_url + foodhandles_top5[i]\n",
    "    driver.get(curr_url)\n",
    "    sleep(5)\n",
    "    count=0\n",
    "    total_likes = 0\n",
    "    \n",
    "    #for all posts in that food handle\n",
    "    posts = driver.find_elements_by_xpath('//div[@class = \"_aabd _aa8k _aanf\"]')\n",
    "    for j in posts:\n",
    "        if count==10:\n",
    "            break\n",
    "        sleep(3)\n",
    "        j.click()\n",
    "        sleep(3)\n",
    "        \n",
    "        try:\n",
    "            post_details = driver.find_element_by_xpath('//div/div[1]/div/div[2]/div/div/div[1]/div/div[3]/div/div/div/div/div[2]/div/article/div/div[2]/div/div/div[2]/div[1]/ul/div/li/div/div/div[2]/div[1]/span')\n",
    "            like = driver.find_element_by_xpath('//div/div[1]/div/div[2]/div/div/div[1]/div/div[3]/div/div/div/div/div[2]/div/article/div/div[2]/div/div/div[2]/section[2]/div/div/div/a/div')\n",
    "            number_of_likes = int(''.join(like.text.split(' ')[0].split(',')))\n",
    "            total_likes += number_of_likes\n",
    "        \n",
    "        #if number of likes aern't displayed then I have calculated number of views\n",
    "        except NoSuchElementException:\n",
    "            views = driver.find_element_by_xpath('//div/div[1]/div/div[2]/div/div/div[1]/div/div[3]/div/div/div/div/div[2]/div/article/div/div[2]/div/div/div[2]/section[2]/div/span/div')\n",
    "            number_of_views = int(''.join(views.text.split(' ')[0].split(',')))\n",
    "            total_likes += number_of_views\n",
    "            \n",
    "        count+=1\n",
    "        driver.back()\n",
    "        sleep(3)\n",
    "        driver.execute_script('window.scrollBy(0,100);')\n",
    "        sleep(3)\n",
    "        \n",
    "    handles_likes[foodhandles_top5[i]] = total_likes\n",
    "    \n",
    "print(handles_likes)"
   ]
  },
  {
   "cell_type": "code",
   "execution_count": 26,
   "id": "9c32e93e",
   "metadata": {},
   "outputs": [
    {
     "name": "stdout",
     "output_type": "stream",
     "text": [
      "foodie_incarnate 59751.8\n",
      "dilsefoodie 5560.9\n",
      "foodtalkindia 2768.4\n",
      "pune_food_blogger 3709.1\n"
     ]
    },
    {
     "data": {
      "image/png": "[encoded data removed]",
      "text/plain": [
       "<Figure size 432x288 with 1 Axes>"
      ]
     },
     "metadata": {
      "needs_background": "light"
     },
     "output_type": "display_data"
    }
   ],
   "source": [
    "#create graphs of number of likes per foodhandles\n",
    "handles = []\n",
    "likes = []\n",
    "for i in handles_likes:\n",
    "    handles.append(i)\n",
    "    likes.append(handles_likes[i])\n",
    "\n",
    "for i in range(len(handles)):\n",
    "    print(handles[i], avg_likes[i])    \n",
    "    \n",
    "plt.bar(handles, likes)\n",
    "plt.xlabel('handles')\n",
    "plt.xticks(rotation = 40)\n",
    "plt.ylabel('likes')\n",
    "plt.title('number of likes per food handle')\n",
    "plt.show()"
   ]
  },
  {
   "cell_type": "markdown",
   "id": "61a5c162",
   "metadata": {},
   "source": [
    "# Question 3.2"
   ]
  },
  {
   "cell_type": "code",
   "execution_count": 25,
   "id": "07db25bf",
   "metadata": {},
   "outputs": [
    {
     "name": "stdout",
     "output_type": "stream",
     "text": [
      "foodie_incarnate 59751.8\n",
      "dilsefoodie 5560.9\n",
      "foodtalkindia 2768.4\n",
      "pune_food_blogger 3709.1\n"
     ]
    },
    {
     "data": {
      "image/png": "[encoded data removed]",
      "text/plain": [
       "<Figure size 432x288 with 1 Axes>"
      ]
     },
     "metadata": {
      "needs_background": "light"
     },
     "output_type": "display_data"
    }
   ],
   "source": [
    "#create graphs of avg likes per foodhandles\n",
    "avg_likes = []\n",
    "for i in likes:\n",
    "    avg_likes.append(i/10)\n",
    "\n",
    "for i in range(len(handles)):\n",
    "    print(handles[i], avg_likes[i])\n",
    "    \n",
    "plt.bar(handles, avg_likes)\n",
    "plt.xlabel('handles')\n",
    "plt.xticks(rotation = 40)\n",
    "plt.ylabel('avg likes')\n",
    "plt.title('avg likes per food handle')\n",
    "plt.show()"
   ]
  },
  {
   "cell_type": "markdown",
   "id": "05ce94c7",
   "metadata": {},
   "source": [
    "# Question 3.3"
   ]
  },
  {
   "cell_type": "code",
   "execution_count": 31,
   "id": "e0e22e48",
   "metadata": {},
   "outputs": [
    {
     "name": "stdout",
     "output_type": "stream",
     "text": [
      "foodie_incarnate 22.70308174816491\n",
      "dilsefoodie 183.82653886960745\n",
      "foodtalkindia 111.35168328276261\n",
      "pune_food_blogger 36.37971475560109\n"
     ]
    },
    {
     "data": {
      "image/png": "[encoded data removed]",
      "text/plain": [
       "<Figure size 432x288 with 1 Axes>"
      ]
     },
     "metadata": {
      "needs_background": "light"
     },
     "output_type": "display_data"
    }
   ],
   "source": [
    "#calculate ratio & create graph as per food handle\n",
    "followers = []\n",
    "for i in range(len(foodhandles_followers)):\n",
    "    if i==3:\n",
    "        continue\n",
    "    followers.append(foodhandles_followers[i])\n",
    "\n",
    "ratio = []\n",
    "for i in range(len(followers)):\n",
    "    ratio.append(followers[i]/avg_likes[i])\n",
    "    \n",
    "for i in range(len(followers)):\n",
    "    print(handles[i], ratio[i])\n",
    "\n",
    "plt.bar(handles, ratio)\n",
    "plt.xlabel('handles')\n",
    "plt.xticks(rotation = 40)\n",
    "plt.ylabel('ratio')\n",
    "plt.title('ratio per food handle')\n",
    "plt.show()"
   ]
  }
 ],
 "metadata": {
  "kernelspec": {
   "display_name": "Python 3 (ipykernel)",
   "language": "python",
   "name": "python3"
  },
  "language_info": {
   "codemirror_mode": {
    "name": "ipython",
    "version": 3
   },
   "file_extension": ".py",
   "mimetype": "text/x-python",
   "name": "python",
   "nbconvert_exporter": "python",
   "pygments_lexer": "ipython3",
   "version": "3.9.7"
  }
 },
 "nbformat": 4,
 "nbformat_minor": 5
}
